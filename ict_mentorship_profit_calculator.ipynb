{
  "nbformat": 4,
  "nbformat_minor": 0,
  "metadata": {
    "colab": {
      "provenance": [],
      "include_colab_link": true
    },
    "kernelspec": {
      "name": "python3",
      "display_name": "Python 3"
    },
    "language_info": {
      "name": "python"
    }
  },
  "cells": [
    {
      "cell_type": "markdown",
      "metadata": {
        "id": "view-in-github",
        "colab_type": "text"
      },
      "source": [
        "<a href=\"https://colab.research.google.com/github/em4n0n/Advanced_Feature_Engineering_of_Raw_Data_of_Stocks-with_PySpark/blob/master/ict_mentorship_profit_calculator.ipynb\" target=\"_parent\"><img src=\"https://colab.research.google.com/assets/colab-badge.svg\" alt=\"Open In Colab\"/></a>"
      ]
    },
    {
      "cell_type": "code",
      "execution_count": null,
      "metadata": {
        "colab": {
          "base_uri": "https://localhost:8080/",
          "height": 1000
        },
        "id": "lhYM5YVL3Ia2",
        "outputId": "fd82a754-112d-4c26-8777-4508ba0ee0ad"
      },
      "outputs": [
        {
          "output_type": "stream",
          "name": "stdout",
          "text": [
            "starting balance: 15000\n",
            "Month 1: 18750\n",
            "Month 2: 22500\n",
            "Month 3: 26250\n",
            "Month 4: 32000\n",
            "Month 5: 39500\n",
            "Month 6: 49500\n",
            "Month 7: 62250\n",
            "Month 8: 79000\n",
            "Month 9: 100750\n",
            "Month 10: 129250\n",
            "Month 11: 166500\n",
            "Month 12: 215000\n",
            "Month 13: 278250\n",
            "Month 14: 360750\n",
            "Month 15: 468500\n",
            "Month 16: 609000\n",
            "Month 17: 792000\n",
            "Month 18: 1030500\n",
            "Month 19: 1341500\n",
            "Month 20: 1747500\n",
            "Month 21: 2276500\n",
            "Month 22: 2966250\n",
            "Month 23: 3866000\n",
            "Month 24: 5040000\n",
            "If you do 5 points on 15 days of every month, with a point value of 50 , you will have 5040000 after 24 months!\n",
            "If you need a balance of 14000 for every contract, your new balance will allow you to trade with 353 contracts!\n",
            "your total return will be 33500.0 %\n"
          ]
        },
        {
          "output_type": "display_data",
          "data": {
            "text/plain": [
              "<Figure size 432x288 with 1 Axes>"
            ],
            "image/png": "[encoded data removed]"
          },
          "metadata": {
            "needs_background": "light"
          }
        },
        {
          "output_type": "display_data",
          "data": {
            "text/plain": [
              "<Figure size 432x288 with 1 Axes>"
            ],
            "image/png": "[encoded data removed]"
          },
          "metadata": {
            "needs_background": "light"
          }
        }
      ],
      "source": [
        "import matplotlib.pyplot as plt\n",
        "\n",
        "points_per_day = 5 # how many points you make a day\n",
        "point_value = 50 # value of 1 point = 50 for ES futures\n",
        "num_trading_days = 15 # how many days of a month do you trade\n",
        "balance = 15000 # your starting balance\n",
        "balance_for_one_contract = 14000 # how much you need to trade one contract. different brokers have different values. For My broker it would be 13k. \n",
        "\n",
        "\n",
        "num_months_to_forecast = 12 # forecast profit\n",
        "\n",
        "\n",
        "balance_list = []\n",
        "used_contracts_list = []\n",
        "print(\"starting balance:\", balance)\n",
        "starting_balance = balance\n",
        "for i in range(num_months_to_forecast):\n",
        "  for _ in range(num_trading_days):\n",
        "    num_contracts = int(balance / balance_for_one_contract)\n",
        "    balance += points_per_day*point_value*num_contracts\n",
        "    used_contracts_list.append(num_contracts)\n",
        "    balance_list.append(balance)\n",
        "  print(\"Month\",str(i+1)+\":\", balance)\n",
        "\n",
        "\n",
        "print(\"If you do\", points_per_day, \"points on\", num_trading_days, \"days of every month, with a point value of\", point_value,\", you will have\", balance, \"after\", num_months_to_forecast, \"months!\")\n",
        "print(\"If you need a balance of\",balance_for_one_contract,\"for every contract, your new balance will allow you to trade with\", used_contracts_list[-1], \"contracts!\")\n",
        "print(\"your total return will be\", balance / starting_balance*100-100,\"%\")\n",
        "plt.title(\"num contracts used\")\n",
        "plt.plot(used_contracts_list)\n",
        "plt.show()\n",
        "plt.title(\"balance\")\n",
        "plt.plot(balance_list)\n",
        "plt.show()"
      ]
    },
    {
      "cell_type": "code",
      "source": [],
      "metadata": {
        "colab": {
          "base_uri": "https://localhost:8080/"
        },
        "id": "AVNEUQuB6RhW",
        "outputId": "96abb081-8a06-4529-f119-fe927ca8322b"
      },
      "execution_count": null,
      "outputs": [
        {
          "output_type": "execute_result",
          "data": {
            "text/plain": [
              "1.6"
            ]
          },
          "metadata": {},
          "execution_count": 15
        }
      ]
    }
  ]
}